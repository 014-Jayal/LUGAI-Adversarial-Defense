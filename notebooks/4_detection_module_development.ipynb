{
 "cells": [
  {
   "cell_type": "code",
   "execution_count": 1,
   "id": "5b174f77",
   "metadata": {},
   "outputs": [
    {
     "name": "stdout",
     "output_type": "stream",
     "text": [
      "Libraries imported.\n"
     ]
    }
   ],
   "source": [
    "# Cell 1: Imports\n",
    "import torch\n",
    "import torch.nn as nn\n",
    "import torch.nn.functional as F\n",
    "import matplotlib.pyplot as plt\n",
    "import numpy as np\n",
    "from torch.utils.data import TensorDataset, DataLoader\n",
    "from tqdm.notebook import tqdm\n",
    "import os\n",
    "import torchattacks\n",
    "\n",
    "print(\"Libraries imported.\")"
   ]
  },
  {
   "cell_type": "code",
   "execution_count": 2,
   "id": "8d7aca9f",
   "metadata": {},
   "outputs": [
    {
     "name": "stdout",
     "output_type": "stream",
     "text": [
      "Using device: cuda\n"
     ]
    }
   ],
   "source": [
    "# Cell 2: Define Constants and Paths\n",
    "# Paths (relative to the 'notebooks' folder)\n",
    "DATA_DIR = \"../data/processed\"\n",
    "MODEL_DIR = \"../models\"\n",
    "TEST_FILE = os.path.join(DATA_DIR, \"test.pt\")\n",
    "BASELINE_MODEL_PATH = os.path.join(MODEL_DIR, \"cnn_classifier.pth\")\n",
    "PURIFIER_MODEL_PATH = os.path.join(MODEL_DIR, \"denoising_autoencoder.pth\") # Use the best one!\n",
    "FIGURES_DIR = \"../results/figures\"\n",
    "DETECTION_PLOT_PATH = os.path.join(FIGURES_DIR, \"detection_feature_distributions.png\")\n",
    "\n",
    "os.makedirs(FIGURES_DIR, exist_ok=True)\n",
    "\n",
    "# Constants\n",
    "DEVICE = \"cuda\" if torch.cuda.is_available() else \"cpu\"\n",
    "MNIST_MEAN = (0.1307,)\n",
    "MNIST_STD = (0.3081,)\n",
    "BATCH_SIZE = 128\n",
    "\n",
    "print(f\"Using device: {DEVICE}\")"
   ]
  },
  {
   "cell_type": "code",
   "execution_count": 3,
   "id": "8ddd651f",
   "metadata": {},
   "outputs": [
    {
     "name": "stdout",
     "output_type": "stream",
     "text": [
      "Helper models and functions defined.\n"
     ]
    }
   ],
   "source": [
    "# Cell 3: Define All Helper Models and Functions\n",
    "\n",
    "# Copied from src/model_zoo.py\n",
    "class BaseCNN(nn.Module):\n",
    "    def __init__(self):\n",
    "        super(BaseCNN, self).__init__()\n",
    "        self.conv1 = nn.Conv2d(in_channels=1, out_channels=32, kernel_size=3, stride=1, padding=1)\n",
    "        self.conv2 = nn.Conv2d(in_channels=32, out_channels=64, kernel_size=3, stride=1, padding=1)\n",
    "        self.pool = nn.MaxPool2d(kernel_size=2, stride=2)\n",
    "        self.fc1 = nn.Linear(64 * 7 * 7, 128)\n",
    "        self.fc2 = nn.Linear(128, 10)\n",
    "        self.dropout = nn.Dropout(0.25)\n",
    "\n",
    "    def forward(self, x):\n",
    "        x = self.conv1(x); x = F.relu(x); x = self.pool(x)\n",
    "        x = self.conv2(x); x = F.relu(x); x = self.pool(x)\n",
    "        x = x.view(-1, 64 * 7 * 7); x = self.dropout(x)\n",
    "        x = self.fc1(x); x = F.relu(x); x = self.fc2(x)\n",
    "        return x\n",
    "\n",
    "# Copied from src/model_zoo.py\n",
    "class Autoencoder(nn.Module):\n",
    "    def __init__(self):\n",
    "        super(Autoencoder, self).__init__()\n",
    "        self.enc1 = nn.Conv2d(1, 16, kernel_size=3, stride=1, padding=1)\n",
    "        self.pool1 = nn.MaxPool2d(kernel_size=2, stride=2)\n",
    "        self.enc2 = nn.Conv2d(16, 32, kernel_size=3, stride=1, padding=1)\n",
    "        self.pool2 = nn.MaxPool2d(kernel_size=2, stride=2)\n",
    "        self.up1 = nn.ConvTranspose2d(32, 16, kernel_size=2, stride=2) \n",
    "        self.dec1 = nn.Conv2d(16, 16, kernel_size=3, stride=1, padding=1)\n",
    "        self.up2 = nn.ConvTranspose2d(16, 1, kernel_size=2, stride=2)\n",
    "        self.dec2 = nn.Conv2d(1, 1, kernel_size=3, stride=1, padding=1)\n",
    "        \n",
    "    def forward(self, x):\n",
    "        x = F.relu(self.enc1(x)); x = self.pool1(x)\n",
    "        x = F.relu(self.enc2(x)); x = self.pool2(x)\n",
    "        x = F.relu(self.up1(x)); x = F.relu(self.dec1(x))\n",
    "        x = F.relu(self.up2(x)); x = torch.tanh(self.dec2(x))\n",
    "        return x\n",
    "\n",
    "# Copied from src/defense.py\n",
    "def calculate_softmax_entropy(logits):\n",
    "    probs = F.softmax(logits, dim=1)\n",
    "    log_probs = torch.log(probs + 1e-9)\n",
    "    entropy = -torch.sum(probs * log_probs, dim=1)\n",
    "    return entropy\n",
    "\n",
    "# Copied from src/defense.py\n",
    "def get_reconstruction_error(autoencoder, images, criterion):\n",
    "    reconstructed_images = autoencoder(images)\n",
    "    errors = criterion(reconstructed_images, images)\n",
    "    while errors.dim() > 1:\n",
    "        errors = errors.mean(dim=-1)\n",
    "    return errors\n",
    "\n",
    "print(\"Helper models and functions defined.\")"
   ]
  },
  {
   "cell_type": "code",
   "execution_count": 4,
   "id": "16bf5e8d",
   "metadata": {},
   "outputs": [
    {
     "name": "stdout",
     "output_type": "stream",
     "text": [
      "Classifier loaded from ../models\\cnn_classifier.pth\n",
      "Purifier loaded from ../models\\denoising_autoencoder.pth\n",
      "Test data loaded.\n"
     ]
    }
   ],
   "source": [
    "# Cell 4: Load Models and Data\n",
    "try:\n",
    "    # Load Classifier\n",
    "    classifier = BaseCNN().to(DEVICE)\n",
    "    classifier.load_state_dict(torch.load(BASELINE_MODEL_PATH, map_location=DEVICE))\n",
    "    classifier.eval()\n",
    "    print(f\"Classifier loaded from {BASELINE_MODEL_PATH}\")\n",
    "\n",
    "    # Load Denoising Autoencoder\n",
    "    autoencoder = Autoencoder().to(DEVICE)\n",
    "    autoencoder.load_state_dict(torch.load(PURIFIER_MODEL_PATH, map_location=DEVICE))\n",
    "    autoencoder.eval()\n",
    "    print(f\"Purifier loaded from {PURIFIER_MODEL_PATH}\")\n",
    "\n",
    "    # Load data\n",
    "    test_images, test_labels = torch.load(TEST_FILE)\n",
    "    test_ds = TensorDataset(test_images, test_labels)\n",
    "    test_loader = DataLoader(test_ds, batch_size=BATCH_SIZE, shuffle=False)\n",
    "    print(\"Test data loaded.\")\n",
    "\n",
    "except FileNotFoundError as e:\n",
    "    print(f\"---!!! ERROR: File not found! !!!---\")\n",
    "    print(e)\n",
    "    print(\"Please make sure you have run Notebook 2 and your DAE training script.\")"
   ]
  },
  {
   "cell_type": "code",
   "execution_count": 5,
   "id": "01ff30d6",
   "metadata": {},
   "outputs": [],
   "source": [
    "# Cell 5: Feature Extraction Function\n",
    "def get_features(model, ae, data_loader, device, attack=None):\n",
    "    model.eval(); ae.eval()\n",
    "    all_recon_errors, all_entropies = [], []\n",
    "    recon_criterion = nn.MSELoss(reduction='none')\n",
    "    \n",
    "    desc = \"Extracting Adversarial Features\" if attack else \"Extracting Clean Features\"\n",
    "    \n",
    "    for images, labels in tqdm(data_loader, desc=desc):\n",
    "        images, labels = images.to(device), labels.to(device)\n",
    "        \n",
    "        with torch.enable_grad():\n",
    "            if attack:\n",
    "                images.requires_grad = True\n",
    "                input_images = attack(images, labels)\n",
    "            else:\n",
    "                input_images = images\n",
    "\n",
    "        with torch.no_grad():\n",
    "            input_images = input_images.detach()\n",
    "            recon_errors = get_reconstruction_error(ae, input_images, recon_criterion)\n",
    "            all_recon_errors.append(recon_errors.cpu().numpy())\n",
    "            \n",
    "            logits = model(input_images)\n",
    "            entropies = calculate_softmax_entropy(logits)\n",
    "            all_entropies.append(entropies.cpu().numpy())\n",
    "            \n",
    "    return np.concatenate(all_recon_errors), np.concatenate(all_entropies)"
   ]
  },
  {
   "cell_type": "code",
   "execution_count": 6,
   "id": "7423acf2",
   "metadata": {},
   "outputs": [
    {
     "data": {
      "application/vnd.jupyter.widget-view+json": {
       "model_id": "b1e6a66b8c864c0e909b105753ce004a",
       "version_major": 2,
       "version_minor": 0
      },
      "text/plain": [
       "Extracting Clean Features:   0%|          | 0/79 [00:00<?, ?it/s]"
      ]
     },
     "metadata": {},
     "output_type": "display_data"
    },
    {
     "data": {
      "application/vnd.jupyter.widget-view+json": {
       "model_id": "b1c645fe5a12498a82fb25ac0ea63ebb",
       "version_major": 2,
       "version_minor": 0
      },
      "text/plain": [
       "Extracting Adversarial Features:   0%|          | 0/79 [00:00<?, ?it/s]"
      ]
     },
     "metadata": {},
     "output_type": "display_data"
    },
    {
     "name": "stdout",
     "output_type": "stream",
     "text": [
      "\n",
      "Feature extraction complete.\n",
      "Clean Error (mean):   0.354067 | Adv Error (mean):   0.646296\n",
      "Clean Entropy (mean): 0.016101 | Adv Entropy (mean): 0.534324\n"
     ]
    }
   ],
   "source": [
    "# Cell 6: Extract Features for Clean and Adversarial Data\n",
    "# Initialize FGSM attack\n",
    "fgsm_attack = torchattacks.FGSM(classifier, eps=0.3)\n",
    "fgsm_attack.set_normalization_used(mean=MNIST_MEAN, std=MNIST_STD)\n",
    "\n",
    "# Get features for clean data\n",
    "clean_errors, clean_entropy = get_features(\n",
    "    classifier, autoencoder, test_loader, DEVICE, attack=None\n",
    ")\n",
    "\n",
    "# Get features for adversarial data\n",
    "adv_errors, adv_entropy = get_features(\n",
    "    classifier, autoencoder, test_loader, DEVICE, attack=fgsm_attack\n",
    ")\n",
    "\n",
    "print(\"\\nFeature extraction complete.\")\n",
    "print(f\"Clean Error (mean):   {clean_errors.mean():.6f} | Adv Error (mean):   {adv_errors.mean():.6f}\")\n",
    "print(f\"Clean Entropy (mean): {clean_entropy.mean():.6f} | Adv Entropy (mean): {adv_entropy.mean():.6f}\")"
   ]
  },
  {
   "cell_type": "code",
   "execution_count": 7,
   "id": "b5b1e734",
   "metadata": {},
   "outputs": [
    {
     "name": "stdout",
     "output_type": "stream",
     "text": [
      "Plotting feature distributions and saving to ../results/figures\\detection_feature_distributions.png...\n"
     ]
    },
    {
     "data": {
      "image/png": "[encoded data removed]",
      "text/plain": [
       "<Figure size 1800x700 with 2 Axes>"
      ]
     },
     "metadata": {},
     "output_type": "display_data"
    },
    {
     "name": "stdout",
     "output_type": "stream",
     "text": [
      "Plot saved.\n"
     ]
    }
   ],
   "source": [
    "# Cell 7: Plot Feature Distributions\n",
    "print(f\"Plotting feature distributions and saving to {DETECTION_PLOT_PATH}...\")\n",
    "    \n",
    "fig, (ax1, ax2) = plt.subplots(1, 2, figsize=(18, 7))\n",
    "\n",
    "# Plot 1: Reconstruction Error\n",
    "ax1.hist(clean_errors, bins=100, alpha=0.7, label=\"Clean\", color=\"blue\", density=True)\n",
    "ax1.hist(adv_errors, bins=100, alpha=0.7, label=\"Adversarial (FGSM)\", color=\"red\", density=True)\n",
    "ax1.set_xlabel(\"Reconstruction Error (MSE)\")\n",
    "ax1.set_ylabel(\"Density\")\n",
    "ax1.set_title(\"Reconstruction Deviation\")\n",
    "ax1.legend()\n",
    "# Set x-limits to focus on the main distributions\n",
    "ax1.set_xlim(0, max(np.percentile(clean_errors, 99.5), np.percentile(adv_errors, 99.5)))\n",
    "\n",
    "# Plot 2: Softmax Entropy\n",
    "ax2.hist(clean_entropy, bins=100, alpha=0.7, label=\"Clean\", color=\"blue\", density=True)\n",
    "ax2.hist(adv_entropy, bins=100, alpha=0.7, label=\"Adversarial (FGSM)\", color=\"red\", density=True)\n",
    "ax2.set_xlabel(\"Softmax Entropy\")\n",
    "ax2.set_ylabel(\"Density\")\n",
    "ax2.set_title(\"Latent Uncertainty (Entropy)\")\n",
    "ax2.legend()\n",
    "ax2.set_xlim(0, max(np.percentile(clean_entropy, 99.5), np.percentile(adv_entropy, 99.5)))\n",
    "\n",
    "\n",
    "fig.suptitle(\"Detection Feature Distributions\", fontsize=20, y=1.03)\n",
    "plt.tight_layout()\n",
    "\n",
    "plt.savefig(DETECTION_PLOT_PATH)\n",
    "plt.show()\n",
    "\n",
    "print(\"Plot saved.\")"
   ]
  }
 ],
 "metadata": {
  "kernelspec": {
   "display_name": "venv",
   "language": "python",
   "name": "python3"
  },
  "language_info": {
   "codemirror_mode": {
    "name": "ipython",
    "version": 3
   },
   "file_extension": ".py",
   "mimetype": "text/x-python",
   "name": "python",
   "nbconvert_exporter": "python",
   "pygments_lexer": "ipython3",
   "version": "3.11.9"
  }
 },
 "nbformat": 4,
 "nbformat_minor": 5
}
